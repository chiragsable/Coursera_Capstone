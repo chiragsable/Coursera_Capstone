{
    "cells": [
        {
            "cell_type": "markdown",
            "metadata": {
                "collapsed": true
            },
            "source": "# <ins>The Battle of Neighborhoods - Week 1</ins>"
        },
        {
            "cell_type": "markdown",
            "metadata": {},
            "source": "## Introduction & Business Problem:"
        },
        {
            "cell_type": "markdown",
            "metadata": {},
            "source": "<br>"
        },
        {
            "cell_type": "markdown",
            "metadata": {},
            "source": "## Problem Background:"
        },
        {
            "cell_type": "markdown",
            "metadata": {},
            "source": "* **<ins>New York City, NY, USA</ins>:**    \n    **New York City** (**NYC**), often called **The City** or simply **New York** (**NY**), is the most populous city in the United States. It is diverse and the financial capital of USA. It is multicultural. It provides a lot of business opportunities and business friendly environment. It has attracted many different players into the market. It is a global hub of business and commerce. The city is a major center for banking and finance, retailing, world trade, transportation, tourism, real estate, new media, traditional media, advertising, legal services, accountancy, insurance, theater, fashion, and the arts in the United States.\n    \n    This also means that the market is highly competitive. As it is highly developed city so cost of doing business is also one of the highest. Thus, any new business venture or expansion needs to be analysed carefully. The insights derived from analysis will give good understanding of the business environment which help in strategically targeting the market. This will help in reduction of risk. And the Return on Investment will be reasonable.\n    \n    \n* **<ins>London, England, UK</ins>:**    \n    **London** is the capital and largest city of England and the United Kingdom. Standing on the River Thames in the south-east of England, London has been a major settlement for two millennia. London is one of the leading global cities in art, education, entertainment, finance, commerce, and media. It is considered the largest financial center in the world and among the top five largest metropolitan areas by GDP in the world. It also receives the highest number of international visitors of any city in the world. London is also a preferred investment destination, boasting more international businesses and billionaires than any other city in the world. London has a diverse population, and over 300 languages are spoken in the region.\n"
        },
        {
            "cell_type": "markdown",
            "metadata": {},
            "source": "## Problem Description:\n"
        },
        {
            "cell_type": "markdown",
            "metadata": {},
            "source": "**NYC** and **London** are the two most important metro cities and the financial centers of their respective country in the world. So, there is a competition among the cities as in which city is the most perfect city. Also the tourism sector of both these cities is very strong. There has been a war for supremacy in terms of quality of life, jobs, education, entertainment and recreational facilities that these cities have to offer to its residents. \n\nThe deciding factor for most would be on how lively, supportive, vibrant and unique each of the cities can be when compared to each other. Now, say you are a non-resident of these cities. Some day you plan to visit these cities. It is quite obvious that if you are planning to visit any new city you would first consider that what does this city has to offer me? Alright. So, you would like to know about the famous places to visit, the best foods to try, etc. This is the problem which will be addressed in this project wherein we will be comparing the two cities (NYC and London) and determine how similar or dissimilar they are. This project attempts to analyze the neighborhoods in each of these two cities and tries to understand what is popular in them and what they have to offer to someone who is contemplating to make a choice on seeking a life in either of the metro cities.  \n"
        },
        {
            "cell_type": "markdown",
            "metadata": {},
            "source": "## Target Audience:"
        },
        {
            "cell_type": "markdown",
            "metadata": {},
            "source": "The business problem in this study assumes that people who would be interested in this study are those who would like to create a projection of potential life and activities in these metro city neighborhoods if the subject moves to live in one of them. The decision to choose one over the other would depend on popular venues in the neighborhoods in each of these metro cities."
        }
    ],
    "metadata": {
        "kernelspec": {
            "display_name": "Python 3.6",
            "language": "python",
            "name": "python3"
        },
        "language_info": {
            "codemirror_mode": {
                "name": "ipython",
                "version": 3
            },
            "file_extension": ".py",
            "mimetype": "text/x-python",
            "name": "python",
            "nbconvert_exporter": "python",
            "pygments_lexer": "ipython3",
            "version": "3.6.9"
        }
    },
    "nbformat": 4,
    "nbformat_minor": 1
}