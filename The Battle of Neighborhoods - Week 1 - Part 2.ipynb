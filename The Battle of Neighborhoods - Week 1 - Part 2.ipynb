{
    "cells": [
        {
            "cell_type": "markdown",
            "metadata": {
                "collapsed": true
            },
            "source": "# <ins>The Battle of Neighborhoods - Week 1</ins>"
        },
        {
            "cell_type": "markdown",
            "metadata": {},
            "source": "<br>"
        },
        {
            "cell_type": "markdown",
            "metadata": {},
            "source": "## Data Description"
        },
        {
            "cell_type": "markdown",
            "metadata": {},
            "source": "For any \"data science project\" data is of paramount importance. For this study, we will need data about hte neighborhoods in each of these metro cities.\n\nCities which will be analysed in this project: **New York City** and **London**.\n\nWe will be using the below datasets for analysing the cities:\n\n* **Data 1:**\n\n    Neighborhood has a total of 5 boroughs and 306 neighborhoods. In order to segement the neighborhoods and explore them, we will essentially need a dataset that contains the 5 boroughs and the neighborhoods that exist in each borough as well as the the latitude and logitude coordinates of each neighborhood.\n    \n    This dataset exists for free on the web. Link to the dataset is: https://geo.nyu.edu/catalog/nyu_2451_34572 . For convenience, the data is downloaded and the files are placed on the server. The following link has it: https://cocl.us/new_york_dataset\n        \n    \n* **Data 2:**\n\n    Second data will be of the London dataset along with it's Boroughs. The dataset is not readily available on the web. Instead there is a Wikipedia page exists that has all the information we need to explore and cluster the neighborhoods. Hence, it will be required to scrape the Wikipedia page and wrangle the data, clean it, and then read it into a pandas dataframe so that it is in a structured format.\n    \n    The link for the Wikipedia page is as follows: https://en.wikipedia.org/wiki/List_of_areas_of_London\n    \n    \n* Each of these datasets will contain the following columns:\n    \n    * **Borough**\n    * **Neighborhood**\n    * **Latitude**\n    * **Longitude**"
        }
    ],
    "metadata": {
        "kernelspec": {
            "display_name": "Python 3.6",
            "language": "python",
            "name": "python3"
        },
        "language_info": {
            "codemirror_mode": {
                "name": "ipython",
                "version": 3
            },
            "file_extension": ".py",
            "mimetype": "text/x-python",
            "name": "python",
            "nbconvert_exporter": "python",
            "pygments_lexer": "ipython3",
            "version": "3.6.9"
        }
    },
    "nbformat": 4,
    "nbformat_minor": 1
}